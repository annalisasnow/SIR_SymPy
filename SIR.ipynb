from sympy import *
b, g, t, N = symbols('b g t N')

S, I, R = symbols('S I R', cls=Function)
eq1 = Eq(S(t).diff(t), -b*S(t)*I(t)/N)
eq2 = Eq(I(t).diff(t), b*S(t)*I(t)/N - g*I(t))
eq3 = Eq(R(t).diff(t), g*I(t))
eqs = [eq1, eq2, eq3]
dsolve(eqs, [S(t), I(t), R(t)])
